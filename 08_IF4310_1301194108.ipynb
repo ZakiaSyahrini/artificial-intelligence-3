{
  "nbformat": 4,
  "nbformat_minor": 0,
  "metadata": {
    "colab": {
      "name": "TUGAS AI3",
      "provenance": [],
      "collapsed_sections": []
    },
    "kernelspec": {
      "name": "python3",
      "display_name": "Python 3"
    },
    "language_info": {
      "name": "python"
    }
  },
  "cells": [
    {
      "cell_type": "markdown",
      "metadata": {
        "id": "BKh3s_8vyGD0"
      },
      "source": [
        "KELOMPOK \n",
        "1. Indra Deva Aji Zakaria (1301190320)\n",
        "2. Rahmatia Primadiati (1301194091)\n",
        "3. Zakia Syahrini (1301194108)\n",
        "\n",
        "Bangunlah sebuah sistem rekomendasi mobil berbasis kNN untuk memilih 3 (tiga) mobil terbaik sesuai dengan inputan user. Sistem membaca masukan file mobil.xls dan mengeluarkan output berupa sebuah file rekomendasi.xls yang berisi satu vektor kolom berisi 3 (tiga) baris string yang menyatakan nama mobil yang direkomendasikan pada file mobil.xls.\n",
        "\n",
        "\n"
      ]
    },
    {
      "cell_type": "markdown",
      "metadata": {
        "id": "tBjb-Qwhyz5p"
      },
      "source": [
        "Proses yang harus dibangun (bisa berbentuk fungsi/prosedur):\n",
        "\n",
        "● Membaca file inputan (mobil.xls)\n",
        "\n",
        "● Prapemrosesan data\n",
        "\n",
        "● Perhitungan ukuran jarak, harus menggunakan seluruh rumus perhitungan jarak\n",
        "\n",
        " berikut ini kemudian membandingkan hasilnya:\n",
        "\n",
        "o Euclidean distance\n",
        "\n",
        "o Manhattan distance\n",
        "\n",
        "o Minkowski distance\n",
        "\n",
        "o Supremum distance\n",
        "\n",
        "● Klasifikasi kNN\n",
        "\n",
        "● Mengeluarkan file rekomendasi mobil (rekomendasi.xls)"
      ]
    },
    {
      "cell_type": "code",
      "metadata": {
        "id": "CecKshWOyEF_",
        "colab": {
          "base_uri": "https://localhost:8080/"
        },
        "outputId": "f58c400e-ef18-4c21-dc2d-723209fc0871"
      },
      "source": [
        "#upload data ke gdrive dan download\n",
        "!gdown --id 1GN9D8NFeL6cuMsze_IICrftYF_eEuZ4V"
      ],
      "execution_count": null,
      "outputs": [
        {
          "output_type": "stream",
          "text": [
            "Downloading...\n",
            "From: https://drive.google.com/uc?id=1GN9D8NFeL6cuMsze_IICrftYF_eEuZ4V\n",
            "To: /content/mobil.xls\n",
            "\r  0% 0.00/29.2k [00:00<?, ?B/s]\r100% 29.2k/29.2k [00:00<00:00, 56.0MB/s]\n"
          ],
          "name": "stdout"
        }
      ]
    },
    {
      "cell_type": "code",
      "metadata": {
        "colab": {
          "base_uri": "https://localhost:8080/"
        },
        "id": "Jde2cGmvM3kT",
        "outputId": "1954eac1-f2d4-4a7f-eae1-93dbb6af272b"
      },
      "source": [
        "!pip install xlsxwriter"
      ],
      "execution_count": null,
      "outputs": [
        {
          "output_type": "stream",
          "text": [
            "Requirement already satisfied: xlsxwriter in /usr/local/lib/python3.7/dist-packages (1.4.3)\n"
          ],
          "name": "stdout"
        }
      ]
    },
    {
      "cell_type": "code",
      "metadata": {
        "id": "8oNWsbhjzG_H",
        "colab": {
          "base_uri": "https://localhost:8080/",
          "height": 576
        },
        "outputId": "b8d9a629-6f4d-47a7-9cc7-56d3b7ab57df"
      },
      "source": [
        "# library\n",
        "import math\n",
        "import pandas as pa\n",
        "import xlsxwriter\n",
        "from google.colab import files\n",
        "\n",
        "# membaca data\n",
        "data = pa.read_excel ('mobil.xls')\n",
        "data"
      ],
      "execution_count": null,
      "outputs": [
        {
          "output_type": "execute_result",
          "data": {
            "text/html": [
              "<div>\n",
              "<style scoped>\n",
              "    .dataframe tbody tr th:only-of-type {\n",
              "        vertical-align: middle;\n",
              "    }\n",
              "\n",
              "    .dataframe tbody tr th {\n",
              "        vertical-align: top;\n",
              "    }\n",
              "\n",
              "    .dataframe thead th {\n",
              "        text-align: right;\n",
              "    }\n",
              "</style>\n",
              "<table border=\"1\" class=\"dataframe\">\n",
              "  <thead>\n",
              "    <tr style=\"text-align: right;\">\n",
              "      <th></th>\n",
              "      <th>Nama Mobil</th>\n",
              "      <th>Ukuran</th>\n",
              "      <th>Kenyamanan</th>\n",
              "      <th>Irit</th>\n",
              "      <th>Kecepatan</th>\n",
              "      <th>Harga (Ratus Juta)</th>\n",
              "    </tr>\n",
              "  </thead>\n",
              "  <tbody>\n",
              "    <tr>\n",
              "      <th>0</th>\n",
              "      <td>Toyota Agya</td>\n",
              "      <td>4</td>\n",
              "      <td>4</td>\n",
              "      <td>9</td>\n",
              "      <td>6</td>\n",
              "      <td>1.00</td>\n",
              "    </tr>\n",
              "    <tr>\n",
              "      <th>1</th>\n",
              "      <td>Daihatsu Alya</td>\n",
              "      <td>4</td>\n",
              "      <td>3</td>\n",
              "      <td>9</td>\n",
              "      <td>6</td>\n",
              "      <td>1.10</td>\n",
              "    </tr>\n",
              "    <tr>\n",
              "      <th>2</th>\n",
              "      <td>Toyota Avanza</td>\n",
              "      <td>6</td>\n",
              "      <td>5</td>\n",
              "      <td>6</td>\n",
              "      <td>6</td>\n",
              "      <td>2.00</td>\n",
              "    </tr>\n",
              "    <tr>\n",
              "      <th>3</th>\n",
              "      <td>Daihatsu Xenia</td>\n",
              "      <td>6</td>\n",
              "      <td>4</td>\n",
              "      <td>6</td>\n",
              "      <td>6</td>\n",
              "      <td>1.75</td>\n",
              "    </tr>\n",
              "    <tr>\n",
              "      <th>4</th>\n",
              "      <td>Xpander</td>\n",
              "      <td>7</td>\n",
              "      <td>7</td>\n",
              "      <td>6</td>\n",
              "      <td>7</td>\n",
              "      <td>2.25</td>\n",
              "    </tr>\n",
              "    <tr>\n",
              "      <th>5</th>\n",
              "      <td>Livina</td>\n",
              "      <td>7</td>\n",
              "      <td>7</td>\n",
              "      <td>6</td>\n",
              "      <td>7</td>\n",
              "      <td>2.10</td>\n",
              "    </tr>\n",
              "    <tr>\n",
              "      <th>6</th>\n",
              "      <td>Karimun</td>\n",
              "      <td>3</td>\n",
              "      <td>4</td>\n",
              "      <td>10</td>\n",
              "      <td>5</td>\n",
              "      <td>1.20</td>\n",
              "    </tr>\n",
              "    <tr>\n",
              "      <th>7</th>\n",
              "      <td>Toyota Innova</td>\n",
              "      <td>8</td>\n",
              "      <td>8</td>\n",
              "      <td>5</td>\n",
              "      <td>7</td>\n",
              "      <td>4.00</td>\n",
              "    </tr>\n",
              "    <tr>\n",
              "      <th>8</th>\n",
              "      <td>Alphard</td>\n",
              "      <td>9</td>\n",
              "      <td>10</td>\n",
              "      <td>4</td>\n",
              "      <td>8</td>\n",
              "      <td>10.00</td>\n",
              "    </tr>\n",
              "    <tr>\n",
              "      <th>9</th>\n",
              "      <td>Toyota Vios</td>\n",
              "      <td>5</td>\n",
              "      <td>7</td>\n",
              "      <td>9</td>\n",
              "      <td>8</td>\n",
              "      <td>2.50</td>\n",
              "    </tr>\n",
              "    <tr>\n",
              "      <th>10</th>\n",
              "      <td>Honda City</td>\n",
              "      <td>5</td>\n",
              "      <td>8</td>\n",
              "      <td>7</td>\n",
              "      <td>8</td>\n",
              "      <td>2.70</td>\n",
              "    </tr>\n",
              "    <tr>\n",
              "      <th>11</th>\n",
              "      <td>Toyota Hiace</td>\n",
              "      <td>10</td>\n",
              "      <td>5</td>\n",
              "      <td>8</td>\n",
              "      <td>6</td>\n",
              "      <td>5.00</td>\n",
              "    </tr>\n",
              "    <tr>\n",
              "      <th>12</th>\n",
              "      <td>Toyota Fortuner</td>\n",
              "      <td>9</td>\n",
              "      <td>8</td>\n",
              "      <td>5</td>\n",
              "      <td>8</td>\n",
              "      <td>5.00</td>\n",
              "    </tr>\n",
              "    <tr>\n",
              "      <th>13</th>\n",
              "      <td>Toyota Foxy</td>\n",
              "      <td>9</td>\n",
              "      <td>9</td>\n",
              "      <td>5</td>\n",
              "      <td>7</td>\n",
              "      <td>5.50</td>\n",
              "    </tr>\n",
              "    <tr>\n",
              "      <th>14</th>\n",
              "      <td>Toyota Corolla Altis</td>\n",
              "      <td>5</td>\n",
              "      <td>9</td>\n",
              "      <td>7</td>\n",
              "      <td>9</td>\n",
              "      <td>6.00</td>\n",
              "    </tr>\n",
              "    <tr>\n",
              "      <th>15</th>\n",
              "      <td>Suzuki Ertiga</td>\n",
              "      <td>7</td>\n",
              "      <td>7</td>\n",
              "      <td>7</td>\n",
              "      <td>7</td>\n",
              "      <td>2.30</td>\n",
              "    </tr>\n",
              "    <tr>\n",
              "      <th>16</th>\n",
              "      <td>Suzuki Carry</td>\n",
              "      <td>7</td>\n",
              "      <td>3</td>\n",
              "      <td>9</td>\n",
              "      <td>5</td>\n",
              "      <td>0.80</td>\n",
              "    </tr>\n",
              "  </tbody>\n",
              "</table>\n",
              "</div>"
            ],
            "text/plain": [
              "              Nama Mobil  Ukuran  ...  Kecepatan  Harga (Ratus Juta)\n",
              "0            Toyota Agya       4  ...          6                1.00\n",
              "1          Daihatsu Alya       4  ...          6                1.10\n",
              "2          Toyota Avanza       6  ...          6                2.00\n",
              "3         Daihatsu Xenia       6  ...          6                1.75\n",
              "4                Xpander       7  ...          7                2.25\n",
              "5                 Livina       7  ...          7                2.10\n",
              "6                Karimun       3  ...          5                1.20\n",
              "7          Toyota Innova       8  ...          7                4.00\n",
              "8                Alphard       9  ...          8               10.00\n",
              "9            Toyota Vios       5  ...          8                2.50\n",
              "10            Honda City       5  ...          8                2.70\n",
              "11          Toyota Hiace      10  ...          6                5.00\n",
              "12       Toyota Fortuner       9  ...          8                5.00\n",
              "13           Toyota Foxy       9  ...          7                5.50\n",
              "14  Toyota Corolla Altis       5  ...          9                6.00\n",
              "15         Suzuki Ertiga       7  ...          7                2.30\n",
              "16          Suzuki Carry       7  ...          5                0.80\n",
              "\n",
              "[17 rows x 6 columns]"
            ]
          },
          "metadata": {
            "tags": []
          },
          "execution_count": 19
        }
      ]
    },
    {
      "cell_type": "code",
      "metadata": {
        "id": "PonzmSBLzrYG",
        "colab": {
          "base_uri": "https://localhost:8080/",
          "height": 204
        },
        "outputId": "5af684a1-0e88-4876-f6c3-c0bd6d079158"
      },
      "source": [
        "# menghapus nama mobil dari kolom\n",
        "data_kolom = data.drop('Nama Mobil', axis=1)\n",
        "\n",
        "\n",
        "def normalisasi():\n",
        "    data_kolom = []\n",
        "    for i in range(0, len(data)):\n",
        "      data_kolom.append([\n",
        "                         namaMobil[i], (ukuran[i] - ukuran.min()) / (ukuran.max()- ukuran.min()),(kenyamanan[i] - kenyamanan.min()) / (kenyamanan.max() - kenyamanan.min()),\n",
        "                         (irit[i] - irit.min()) / (irit.max() - irit.min()), (kecepatan[i] - kecepatan.min()) / (kecepatan.max() - kecepatan.min()),\n",
        "                         (harga[i] - harga.min()) / (harga.max() - harga.min())\n",
        "      ])\n",
        "    return data_kolom\n",
        "data_kolom.head()"
      ],
      "execution_count": null,
      "outputs": [
        {
          "output_type": "execute_result",
          "data": {
            "text/html": [
              "<div>\n",
              "<style scoped>\n",
              "    .dataframe tbody tr th:only-of-type {\n",
              "        vertical-align: middle;\n",
              "    }\n",
              "\n",
              "    .dataframe tbody tr th {\n",
              "        vertical-align: top;\n",
              "    }\n",
              "\n",
              "    .dataframe thead th {\n",
              "        text-align: right;\n",
              "    }\n",
              "</style>\n",
              "<table border=\"1\" class=\"dataframe\">\n",
              "  <thead>\n",
              "    <tr style=\"text-align: right;\">\n",
              "      <th></th>\n",
              "      <th>Ukuran</th>\n",
              "      <th>Kenyamanan</th>\n",
              "      <th>Irit</th>\n",
              "      <th>Kecepatan</th>\n",
              "      <th>Harga (Ratus Juta)</th>\n",
              "    </tr>\n",
              "  </thead>\n",
              "  <tbody>\n",
              "    <tr>\n",
              "      <th>0</th>\n",
              "      <td>4</td>\n",
              "      <td>4</td>\n",
              "      <td>9</td>\n",
              "      <td>6</td>\n",
              "      <td>1.00</td>\n",
              "    </tr>\n",
              "    <tr>\n",
              "      <th>1</th>\n",
              "      <td>4</td>\n",
              "      <td>3</td>\n",
              "      <td>9</td>\n",
              "      <td>6</td>\n",
              "      <td>1.10</td>\n",
              "    </tr>\n",
              "    <tr>\n",
              "      <th>2</th>\n",
              "      <td>6</td>\n",
              "      <td>5</td>\n",
              "      <td>6</td>\n",
              "      <td>6</td>\n",
              "      <td>2.00</td>\n",
              "    </tr>\n",
              "    <tr>\n",
              "      <th>3</th>\n",
              "      <td>6</td>\n",
              "      <td>4</td>\n",
              "      <td>6</td>\n",
              "      <td>6</td>\n",
              "      <td>1.75</td>\n",
              "    </tr>\n",
              "    <tr>\n",
              "      <th>4</th>\n",
              "      <td>7</td>\n",
              "      <td>7</td>\n",
              "      <td>6</td>\n",
              "      <td>7</td>\n",
              "      <td>2.25</td>\n",
              "    </tr>\n",
              "  </tbody>\n",
              "</table>\n",
              "</div>"
            ],
            "text/plain": [
              "   Ukuran  Kenyamanan  Irit  Kecepatan  Harga (Ratus Juta)\n",
              "0       4           4     9          6                1.00\n",
              "1       4           3     9          6                1.10\n",
              "2       6           5     6          6                2.00\n",
              "3       6           4     6          6                1.75\n",
              "4       7           7     6          7                2.25"
            ]
          },
          "metadata": {
            "tags": []
          },
          "execution_count": 20
        }
      ]
    },
    {
      "cell_type": "code",
      "metadata": {
        "id": "Iko3ATtA07eC"
      },
      "source": [
        "# fungsi euclidean distance\n",
        "def euclidean_distance( x, y ):\n",
        "    j = 0\n",
        "    for i in range( len( x)):\n",
        "       j =j + ( x[i] - y[i] ) ** 2\n",
        "    \n",
        "    return round( math.sqrt(j), 2 )\n",
        "\n",
        "#fungsi manhattan distance\n",
        "def manhattan_distance( x, y ):\n",
        "    j = 0\n",
        "    for i in range( len( x)):\n",
        "         j = j + abs( x[i] - y[i] )\n",
        "\n",
        "    return round( j, 2) \n",
        "\n",
        "\n",
        "\n",
        "#fungsi minkowski distance   \n",
        "def minkowski_distance( x, y ):\n",
        "     n = 2\n",
        "     j = 0\n",
        "     for i in range( len( x )):\n",
        "        j = j + abs( x[i]- y[i] ) ** n\n",
        "\n",
        "     return round( j ** 1/n, 2 )\n",
        "\n",
        "#fungsi supremum distance\n",
        "def supremum_distance( x, y ):\n",
        "    j = []\n",
        "    for i in range( len( x )):\n",
        "        j.append( abs(x[i] - y[i] ))\n",
        "\n",
        "    return round( max( j ), 2 )\n"
      ],
      "execution_count": null,
      "outputs": []
    },
    {
      "cell_type": "code",
      "metadata": {
        "colab": {
          "base_uri": "https://localhost:8080/"
        },
        "id": "nEUyo9FpT_Yn",
        "outputId": "effc5761-307f-47f3-e49a-167aba20eb9d"
      },
      "source": [
        "#menghitung jarak\n",
        "eu, ma, mi, su = [], [], [], [],\n",
        "\n",
        "def fungsi_jarak( data_kolom, data_input ):\n",
        "    euclidean, manhattan, minkowski, supremum = [], [], [], []\n",
        "    a = 3\n",
        "\n",
        "    for i in range( len(data_kolom)):\n",
        "        euclidean.append( [euclidean_distance(data_kolom.iloc[i], data_input), data['Nama Mobil'][i]])\n",
        "        manhattan.append( [manhattan_distance(data_kolom.iloc[i], data_input), data['Nama Mobil'][i]])\n",
        "        minkowski.append( [minkowski_distance(data_kolom.iloc[i], data_input), data['Nama Mobil'][i]])\n",
        "        supremum.append( [supremum_distance(data_kolom.iloc[i], data_input), data['Nama Mobil'][i]])\n",
        "\n",
        "\n",
        "    euclidean = sorted( euclidean )[:a]\n",
        "    manhattan = sorted( manhattan )[:a]\n",
        "    minkowski = sorted( minkowski )[:a]\n",
        "    supremum = sorted( supremum )[:a]\n",
        "\n",
        "    eu.append(euclidean)\n",
        "    ma.append(manhattan)\n",
        "    mi.append(minkowski)\n",
        "    su.append(supremum)\n",
        "       \n",
        "    jarak = [ \n",
        "       ['Euclidean', euclidean], ['Manhattan', manhattan], ['Minkowski', minkowski], ['Supremum', supremum]\n",
        "      ]\n",
        "\n",
        "    return jarak\n",
        "\n",
        "jarak = fungsi_jarak( data_kolom, data_input )\n",
        "jarak"
      ],
      "execution_count": null,
      "outputs": [
        {
          "output_type": "execute_result",
          "data": {
            "text/plain": [
              "[['Euclidean',\n",
              "  [[3.87, 'Toyota Avanza'], [3.88, 'Daihatsu Xenia'], [5.1, 'Toyota Agya']]],\n",
              " ['Manhattan',\n",
              "  [[6.25, 'Daihatsu Xenia'], [7.0, 'Toyota Avanza'], [8.0, 'Toyota Agya']]],\n",
              " ['Minkowski',\n",
              "  [[7.5, 'Toyota Avanza'], [7.53, 'Daihatsu Xenia'], [13.0, 'Toyota Agya']]],\n",
              " ['Supremum',\n",
              "  [[3.0, 'Daihatsu Xenia'], [3.0, 'Toyota Avanza'], [4.0, 'Daihatsu Alya']]]]"
            ]
          },
          "metadata": {
            "tags": []
          },
          "execution_count": 22
        }
      ]
    },
    {
      "cell_type": "code",
      "metadata": {
        "id": "UqVoxGlK36G5",
        "colab": {
          "base_uri": "https://localhost:8080/"
        },
        "outputId": "e5ac633f-e7d0-4c21-9289-2e6fed1c4c35"
      },
      "source": [
        "# main\n",
        "\n",
        "print('=====MASUKAN DATA DISINI=====\\n')\n",
        "ukuran = int( input('1. Ukuran     : '))\n",
        "kenyamanan = int( input('2. Kenyamanan : '))\n",
        "irit = int( input('3. Irit       : '))\n",
        "kecepatan = int( input('4. Kecepatan  : '))\n",
        "harga = int( input('5. Harga      : '))\n",
        "data_input = [ukuran, kenyamanan, irit, kecepatan, harga]\n",
        "\n",
        "#mperhitungan untuk jarak\n",
        "jarak = fungsi_jarak( data_kolom, data_input )\n",
        "\n",
        "#hasil output\n",
        "print('\\n=====HASIL REKOMENDASI MOBIL=====')\n",
        "for metode in jarak:\n",
        "    print( f'\\n======Metode {metode[0]}======')\n",
        "    hasil = []\n",
        "    i = 1\n",
        "    for jarak in metode[1]:\n",
        "        print( f'- {jarak[1]}, yaitu dengan jarak   : {jarak[0]}')\n",
        "        i = i + 1"
      ],
      "execution_count": null,
      "outputs": [
        {
          "output_type": "stream",
          "text": [
            "=====MASUKAN DATA DISINI=====\n",
            "\n",
            "1. Ukuran     : 6\n",
            "2. Kenyamanan : 6\n",
            "3. Irit       : 5\n",
            "4. Kecepatan  : 6\n",
            "5. Harga      : 2\n",
            "\n",
            "=====HASIL REKOMENDASI MOBIL=====\n",
            "\n",
            "======Metode Euclidean======\n",
            "- Toyota Avanza, yaitu dengan jarak   : 1.41\n",
            "- Livina, yaitu dengan jarak   : 2.0\n",
            "- Xpander, yaitu dengan jarak   : 2.02\n",
            "\n",
            "======Metode Manhattan======\n",
            "- Toyota Avanza, yaitu dengan jarak   : 2.0\n",
            "- Daihatsu Xenia, yaitu dengan jarak   : 3.25\n",
            "- Livina, yaitu dengan jarak   : 4.1\n",
            "\n",
            "======Metode Minkowski======\n",
            "- Toyota Avanza, yaitu dengan jarak   : 1.0\n",
            "- Livina, yaitu dengan jarak   : 2.0\n",
            "- Xpander, yaitu dengan jarak   : 2.03\n",
            "\n",
            "======Metode Supremum======\n",
            "- Livina, yaitu dengan jarak   : 1.0\n",
            "- Toyota Avanza, yaitu dengan jarak   : 1.0\n",
            "- Xpander, yaitu dengan jarak   : 1.0\n"
          ],
          "name": "stdout"
        }
      ]
    },
    {
      "cell_type": "code",
      "metadata": {
        "id": "Z_pjfOAQpNcE",
        "colab": {
          "base_uri": "https://localhost:8080/",
          "height": 425
        },
        "outputId": "1f982da4-620d-4c45-ed6d-3ae8eb9d6b32"
      },
      "source": [
        "dtEU = {'Mobil': [eu[0][0][1], eu[0][1][1], eu[0][2][1]],\n",
        "        'Jarak': [eu[0][0][0], eu[0][1][0], eu[0][2][0]]\n",
        "        }\n",
        "\n",
        "dtMA = {'Mobil': [ma[0][0][1], ma[0][1][1], ma[0][2][1]],\n",
        "        'Jarak': [ma[0][0][0], ma[0][1][0], ma[0][2][0]]\n",
        "        }\n",
        "\n",
        "dtMI = {'Mobil': [mi[0][0][1], mi[0][1][1], mi[0][2][1]],\n",
        "        'Jarak': [mi[0][0][0], mi[0][1][0], mi[0][2][0]]\n",
        "        }\n",
        "\n",
        "dtSU = {'Mobil': [su[0][0][1], su[0][1][1], su[0][2][1]],\n",
        "        'Jarak': [su[0][0][0], su[0][1][0], su[0][2][0]]\n",
        "        }\n",
        "\n",
        "dfEU = pa.DataFrame(dtEU, columns = ['Mobil', 'Jarak'])\n",
        "dfMA = pa.DataFrame(dtMA, columns = ['Mobil', 'Jarak'])\n",
        "dfMI = pa.DataFrame(dtMI, columns = ['Mobil', 'Jarak'])\n",
        "dfSU = pa.DataFrame(dtSU, columns = ['Mobil', 'Jarak'])\n",
        "\n",
        "print(\"====== Metode Euclidean ======\")\n",
        "print(dfEU, \"\\n\")\n",
        "print(\"====== Metode Manhattan ======\")\n",
        "print(dfMA, \"\\n\")\n",
        "print(\"====== Metode Minkowski ======\")\n",
        "print(dfMI, \"\\n\")\n",
        "print(\"====== Metode Supremum ======\")\n",
        "print(dfSU, \"\\n\")\n",
        "\n",
        "writer = pa.ExcelWriter('rekomendasi.xls', engine='xlsxwriter')\n",
        "\n",
        "dfEU.to_excel(writer, sheet_name='Euclidean', index = False, header=True)\n",
        "dfMA.to_excel(writer, sheet_name='Manhattan', index = False, header=True)\n",
        "dfMI.to_excel(writer, sheet_name='Minkowski', index = False, header=True)\n",
        "dfSU.to_excel(writer, sheet_name='Supremum', index = False, header=True)\n",
        "\n",
        "writer.save()\n",
        "files.download('rekomendasi.xls')"
      ],
      "execution_count": null,
      "outputs": [
        {
          "output_type": "stream",
          "text": [
            "====== Metode Euclidean ======\n",
            "            Mobil  Jarak\n",
            "0   Toyota Avanza   3.87\n",
            "1  Daihatsu Xenia   3.88\n",
            "2     Toyota Agya   5.10 \n",
            "\n",
            "====== Metode Manhattan ======\n",
            "            Mobil  Jarak\n",
            "0  Daihatsu Xenia   6.25\n",
            "1   Toyota Avanza   7.00\n",
            "2     Toyota Agya   8.00 \n",
            "\n",
            "====== Metode Minkowski ======\n",
            "            Mobil  Jarak\n",
            "0   Toyota Avanza   7.50\n",
            "1  Daihatsu Xenia   7.53\n",
            "2     Toyota Agya  13.00 \n",
            "\n",
            "====== Metode Supremum ======\n",
            "            Mobil  Jarak\n",
            "0  Daihatsu Xenia    3.0\n",
            "1   Toyota Avanza    3.0\n",
            "2   Daihatsu Alya    4.0 \n",
            "\n"
          ],
          "name": "stdout"
        },
        {
          "output_type": "display_data",
          "data": {
            "application/javascript": [
              "\n",
              "    async function download(id, filename, size) {\n",
              "      if (!google.colab.kernel.accessAllowed) {\n",
              "        return;\n",
              "      }\n",
              "      const div = document.createElement('div');\n",
              "      const label = document.createElement('label');\n",
              "      label.textContent = `Downloading \"${filename}\": `;\n",
              "      div.appendChild(label);\n",
              "      const progress = document.createElement('progress');\n",
              "      progress.max = size;\n",
              "      div.appendChild(progress);\n",
              "      document.body.appendChild(div);\n",
              "\n",
              "      const buffers = [];\n",
              "      let downloaded = 0;\n",
              "\n",
              "      const channel = await google.colab.kernel.comms.open(id);\n",
              "      // Send a message to notify the kernel that we're ready.\n",
              "      channel.send({})\n",
              "\n",
              "      for await (const message of channel.messages) {\n",
              "        // Send a message to notify the kernel that we're ready.\n",
              "        channel.send({})\n",
              "        if (message.buffers) {\n",
              "          for (const buffer of message.buffers) {\n",
              "            buffers.push(buffer);\n",
              "            downloaded += buffer.byteLength;\n",
              "            progress.value = downloaded;\n",
              "          }\n",
              "        }\n",
              "      }\n",
              "      const blob = new Blob(buffers, {type: 'application/binary'});\n",
              "      const a = document.createElement('a');\n",
              "      a.href = window.URL.createObjectURL(blob);\n",
              "      a.download = filename;\n",
              "      div.appendChild(a);\n",
              "      a.click();\n",
              "      div.remove();\n",
              "    }\n",
              "  "
            ],
            "text/plain": [
              "<IPython.core.display.Javascript object>"
            ]
          },
          "metadata": {
            "tags": []
          }
        },
        {
          "output_type": "display_data",
          "data": {
            "application/javascript": [
              "download(\"download_f5fd5d5c-8866-4090-8db2-345b425309f9\", \"rekomendasi.xls\", 7031)"
            ],
            "text/plain": [
              "<IPython.core.display.Javascript object>"
            ]
          },
          "metadata": {
            "tags": []
          }
        }
      ]
    }
  ]
}